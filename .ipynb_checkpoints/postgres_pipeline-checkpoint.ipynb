{
 "cells": [
  {
   "cell_type": "code",
   "execution_count": null,
   "id": "1845278b-2a16-42ad-9aad-95e73fcbf25b",
   "metadata": {},
   "outputs": [],
   "source": [
    "import requests\n",
    "import json\n",
    "import pandas as pd\n",
    "import csv\n",
    "import psycopg2"
   ]
  },
  {
   "cell_type": "markdown",
   "id": "ec8b370b-68b3-4407-95bd-7367609c19d8",
   "metadata": {},
   "source": [
    "# Extraction Layer"
   ]
  },
  {
   "cell_type": "code",
   "execution_count": 14,
   "id": "37f7886c-3950-4690-be5f-9644f40efd4e",
   "metadata": {},
   "outputs": [],
   "source": [
    "url = \"https://realty-mole-property-api.p.rapidapi.com/randomProperties\"\n",
    "\n",
    "querystring = {\"limit\":\"100000\"}\n",
    "\n",
    "headers = {\n",
    "\t\"x-rapidapi-key\": \"c5a2e08edbmsh497a1c43b8c877fp1af99ajsna64cb4c4a2c8\",\n",
    "\t\"x-rapidapi-host\": \"realty-mole-property-api.p.rapidapi.com\"\n",
    "}\n",
    "\n",
    "response = requests.get(url, headers=headers, params=querystring)\n",
    "\n",
    "#print(response.json())\n",
    "\n",
    "data = response.json()\n",
    "\n",
    "# Save the date to a file\n",
    "filename = 'PropertyRecords.json'\n",
    "with open(filename, 'w') as file:\n",
    "    json.dump(data,file, indent=4)"
   ]
  },
  {
   "cell_type": "code",
   "execution_count": 16,
   "id": "efe7d5e7-0e44-4f66-beee-a25ca23c4aac",
   "metadata": {},
   "outputs": [],
   "source": [
    "# Read into a Dataframe\n",
    "propertyrecords_df = pd.read_json('PropertyRecords.json')"
   ]
  },
  {
   "cell_type": "code",
   "execution_count": 18,
   "id": "9fceb5fc-96f4-4bbb-8f05-83b30255ecf7",
   "metadata": {},
   "outputs": [
    {
     "name": "stdout",
     "output_type": "stream",
     "text": [
      "<class 'pandas.core.frame.DataFrame'>\n",
      "RangeIndex: 500 entries, 0 to 499\n",
      "Data columns (total 27 columns):\n",
      " #   Column            Non-Null Count  Dtype  \n",
      "---  ------            --------------  -----  \n",
      " 0   addressLine1      500 non-null    object \n",
      " 1   city              500 non-null    object \n",
      " 2   state             500 non-null    object \n",
      " 3   zipCode           500 non-null    int64  \n",
      " 4   formattedAddress  500 non-null    object \n",
      " 5   assessorID        349 non-null    object \n",
      " 6   bedrooms          323 non-null    float64\n",
      " 7   county            500 non-null    object \n",
      " 8   legalDescription  336 non-null    object \n",
      " 9   squareFootage     360 non-null    float64\n",
      " 10  subdivision       292 non-null    object \n",
      " 11  yearBuilt         345 non-null    float64\n",
      " 12  zoning            168 non-null    object \n",
      " 13  bathrooms         349 non-null    float64\n",
      " 14  lotSize           339 non-null    float64\n",
      " 15  propertyType      397 non-null    object \n",
      " 16  lastSalePrice     260 non-null    float64\n",
      " 17  lastSaleDate      316 non-null    object \n",
      " 18  features          460 non-null    object \n",
      " 19  taxAssessment     342 non-null    object \n",
      " 20  propertyTaxes     333 non-null    object \n",
      " 21  ownerOccupied     314 non-null    float64\n",
      " 22  owner             345 non-null    object \n",
      " 23  id                500 non-null    object \n",
      " 24  longitude         500 non-null    float64\n",
      " 25  latitude          500 non-null    float64\n",
      " 26  addressLine2      104 non-null    object \n",
      "dtypes: float64(9), int64(1), object(17)\n",
      "memory usage: 105.6+ KB\n"
     ]
    }
   ],
   "source": [
    "propertyrecords_df.info()"
   ]
  },
  {
   "cell_type": "code",
   "execution_count": null,
   "id": "4156be2a-2428-4835-bb9d-ba5b66ef173f",
   "metadata": {},
   "outputs": [],
   "source": []
  }
 ],
 "metadata": {
  "kernelspec": {
   "display_name": "Python 3 (ipykernel)",
   "language": "python",
   "name": "python3"
  },
  "language_info": {
   "codemirror_mode": {
    "name": "ipython",
    "version": 3
   },
   "file_extension": ".py",
   "mimetype": "text/x-python",
   "name": "python",
   "nbconvert_exporter": "python",
   "pygments_lexer": "ipython3",
   "version": "3.12.7"
  }
 },
 "nbformat": 4,
 "nbformat_minor": 5
}
